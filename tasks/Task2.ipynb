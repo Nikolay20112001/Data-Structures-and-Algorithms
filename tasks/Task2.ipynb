{
 "cells": [
  {
   "cell_type": "markdown",
   "id": "arctic-stocks",
   "metadata": {},
   "source": [
    "### Задание №1\n",
    "Массив A состоит из целых положительных чисел длин отрезков. Составьте из трех отрезков такой треугольник, чтобы его периметр был максимально возможным. Если невозможно составить треугольник с положительной площадью функция возвращает 0."
   ]
  },
  {
   "cell_type": "code",
   "execution_count": 54,
   "id": "caring-truck",
   "metadata": {},
   "outputs": [
    {
     "name": "stdout",
     "output_type": "stream",
     "text": [
      "[65, 70, 6, 98, 38, 70]\n"
     ]
    },
    {
     "data": {
      "text/plain": [
       "238"
      ]
     },
     "execution_count": 54,
     "metadata": {},
     "output_type": "execute_result"
    }
   ],
   "source": [
    "import random\n",
    "import math\n",
    "def genVector(n,min_value,max_value):\n",
    "    array = [0 for i in range(n)]\n",
    "    for i in range(n):\n",
    "        array[i] = random.randint(min_value,max_value)\n",
    "    return array\n",
    "\n",
    "def searchMaxPerimetr(array):\n",
    "    p = 0\n",
    "    result = 0\n",
    "    for i in range(len(array)-2):\n",
    "        for j in range(i+1,len(array)):\n",
    "            for z in range(j+1,len(array)):\n",
    "                p = array[i] + array[j] + array[z]\n",
    "                if p > result and array[i] + array[j] > array[z] and array[i] + array[z] > array[j] and array[j] + array[z] > array[i]:\n",
    "                    result = p\n",
    "    return result\n",
    "\n",
    "array = genVector(6,1,100)\n",
    "print(array)\n",
    "searchMaxPerimetr(array)"
   ]
  },
  {
   "cell_type": "markdown",
   "id": "maritime-conversation",
   "metadata": {},
   "source": [
    "### Задание №2\n",
    "Дан массив неотрицательных целых чисел nums. Расположите их в таком порядке, чтобы вместе они образовали максимально возможное число. Замечание: Результат может быть очень большим числом, поэтому представьте его как string, а не integer."
   ]
  },
  {
   "cell_type": "code",
   "execution_count": 53,
   "id": "alert-charm",
   "metadata": {
    "scrolled": false
   },
   "outputs": [
    {
     "name": "stdout",
     "output_type": "stream",
     "text": [
      "[5, 57, 43, 82, 94, 73, 18, 24, 196, 53]\n",
      "94827355753432419618\n"
     ]
    }
   ],
   "source": [
    "import random\n",
    "import math\n",
    "def genVector(n,min_value,max_value):\n",
    "    array = [0 for i in range(n)]\n",
    "    for i in range(n):\n",
    "        array[i] = random.randint(min_value,max_value)\n",
    "    return array\n",
    "\n",
    "def maxPossibleNumber(array):\n",
    "    results = []\n",
    "    counterLen = 0\n",
    "    currentNumber = 0\n",
    "    while len(array) > 0:\n",
    "        maxNumber = str(array[0])\n",
    "        for j in range(1,len(array)):\n",
    "            numberB = str(array[j])\n",
    "            for i in range(min(len(str(maxNumber)),len(str(array[j])))):\n",
    "                if maxNumber[i] > numberB[i] and counterLen == i:\n",
    "                    break\n",
    "                elif maxNumber[i] < numberB[i]  and counterLen == i:\n",
    "                    maxNumber = numberB\n",
    "                    counterLen += 1\n",
    "                    break\n",
    "                else:\n",
    "                    counterLen += 1\n",
    "            counterLen = 0\n",
    "        results.append(maxNumber)\n",
    "        array.pop(array.index(int(maxNumber)))\n",
    "    return \"\".join(results)\n",
    "\n",
    "array = genVector(10,1,200)\n",
    "print(array)\n",
    "print(maxPossibleNumber(array))"
   ]
  },
  {
   "cell_type": "markdown",
   "id": "catholic-roots",
   "metadata": {},
   "source": [
    "### Задание №3\n",
    "Дана матрица mat размером m * n, значения целочисленные. Напишите функцию, сортирующую каждую диагональ матрицы по возрастанию и возвращающую получившуюся матрицу."
   ]
  },
  {
   "cell_type": "code",
   "execution_count": 51,
   "id": "cleared-anniversary",
   "metadata": {
    "scrolled": false
   },
   "outputs": [
    {
     "name": "stdout",
     "output_type": "stream",
     "text": [
      "10 21 19 24 \n",
      "18 22 25 18 \n",
      "22 14 23 22 \n",
      "17 18 17 20 \n",
      "15 15 20 20 \n",
      "\n",
      "10 21 19 14 \n",
      "18 20 17 18 \n",
      "22 24 22 22 \n",
      "25 18 17 23 \n",
      "15 15 20 20 \n"
     ]
    }
   ],
   "source": [
    "import random\n",
    "def genMatrix(user_m, user_n, minValue, maxValue):\n",
    "    matrix = [ [ random.randint(minValue,maxValue) for i in range(user_n)] for j in range(user_m) ]\n",
    "    return matrix\n",
    "\n",
    "def outputMatrixConsole(matrix):\n",
    "    for i in range(len(matrix)):\n",
    "        for j in range(len(matrix[0])):\n",
    "            print(matrix[i][j],end=' ')\n",
    "        print()\n",
    "\n",
    "array = genMatrix(5,4,10,25)\n",
    "outputMatrixConsole(array)\n",
    "\n",
    "def sortDiagonalOfMatrix(matrix):\n",
    "    diagonalMain = []\n",
    "    diagonalSecondly = []\n",
    "    minNorM = min(len(matrix),len(matrix[0]))\n",
    "    \n",
    "    for i in range(0,minNorM):\n",
    "        diagonalMain.append(matrix[i][i])\n",
    "        diagonalSecondly.append(matrix[i][-i - 1])\n",
    "    \n",
    "    diagonalMain = sorted(diagonalMain)\n",
    "    diagonalSecondly = sorted(diagonalSecondly)\n",
    "    \n",
    "    for i in range(0,minNorM):\n",
    "        matrix[i][i] = diagonalMain[i]\n",
    "        matrix[i][-i - 1] = diagonalSecondly[i]\n",
    "    return matrix\n",
    "\n",
    "array2 = sortDiagonalOfMatrix(array)\n",
    "print()\n",
    "outputMatrixConsole(array2)"
   ]
  },
  {
   "cell_type": "code",
   "execution_count": null,
   "id": "745bdf11",
   "metadata": {},
   "outputs": [],
   "source": []
  }
 ],
 "metadata": {
  "kernelspec": {
   "display_name": "Python 3 (ipykernel)",
   "language": "python",
   "name": "python3"
  },
  "language_info": {
   "codemirror_mode": {
    "name": "ipython",
    "version": 3
   },
   "file_extension": ".py",
   "mimetype": "text/x-python",
   "name": "python",
   "nbconvert_exporter": "python",
   "pygments_lexer": "ipython3",
   "version": "3.9.7"
  }
 },
 "nbformat": 4,
 "nbformat_minor": 5
}
