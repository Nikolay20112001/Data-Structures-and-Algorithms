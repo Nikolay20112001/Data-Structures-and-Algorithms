{
 "cells": [
  {
   "cell_type": "markdown",
   "metadata": {},
   "source": [
    "# Лабораторная работа №4\n",
    "## Выполнил студент группы Климов Николай БФИ2001"
   ]
  },
  {
   "cell_type": "markdown",
   "metadata": {},
   "source": [
    "Реализовать следующие структуры данных:\n",
    "  \n",
    "● <b> Стек (stack): </b>  \n",
    "Операции для стека: \n",
    "<i> инициализация, проверка на пустоту, добавление нового элемента в начало, извлечение элемента из начала;  </i>  \n",
    "  \n",
    "● <b> Дек (двусторонняя очередь, deque):  </b>  \n",
    "Операции для дека: \n",
    "<i> инициализация, проверка на пустоту, добавление нового элемента в начало, добавление нового элемента в конец, извлечение элемента из начала, извлечение элемента из конца. </i>  \n",
    "  \n",
    "<i> Разработать программу обработки данных, содержащихся в заранее подготовленном txt-файле, в соответствии с заданиями, применив указанную в задании структуру данных. Результат работы программы вывести на экран и сохранить в отдельном txt-файле. </i>"
   ]
  },
  {
   "cell_type": "markdown",
   "metadata": {},
   "source": [
    "### Реализация стека"
   ]
  },
  {
   "cell_type": "code",
   "execution_count": 2,
   "metadata": {},
   "outputs": [],
   "source": [
    "class Stack:\n",
    "    \n",
    "    def __init__(self):\n",
    "         self.items = []\n",
    "          \n",
    "    def isEmpty(self):\n",
    "         return len(self.items)==0\n",
    "        \n",
    "    def push(self, item):\n",
    "         self.items.append(item)\n",
    "            \n",
    "    def pop(self):\n",
    "         return self.items.pop()\n",
    "        \n",
    "    def peek(self):\n",
    "        if self.isEmpty():\n",
    "            return None\n",
    "        else:\n",
    "            return self.items[-1]\n",
    "       \n",
    "    def __len__(self):\n",
    "         return len(self.items)"
   ]
  },
  {
   "cell_type": "markdown",
   "metadata": {},
   "source": [
    "### Реализация дека"
   ]
  },
  {
   "cell_type": "code",
   "execution_count": 3,
   "metadata": {},
   "outputs": [],
   "source": [
    "class Deque:\n",
    "    \n",
    "    def __init__(self):\n",
    "        self.items = []\n",
    "    \n",
    "    def isEmpty(self):\n",
    "        return len(self.items)==0\n",
    "    \n",
    "    def add_Right(self, item):\n",
    "        self.items.append(item)\n",
    "        \n",
    "    def add_Left(self, item):\n",
    "        self.items.insert(0,item)\n",
    "        \n",
    "    def removeRight(self):\n",
    "        return self.items.pop()\n",
    "    \n",
    "    def removeLeft(self):\n",
    "        return self.items.pop(0)\n",
    "    \n",
    "    def peek_left(self):\n",
    "        if self.isEmpty():\n",
    "            return None\n",
    "        else:\n",
    "            return self.items[0]\n",
    "    \n",
    "    def peek_right(self):\n",
    "        if self.isEmpty():\n",
    "            return None\n",
    "        else:\n",
    "            return self.items[-1]\n",
    "    \n",
    "    def __len__(self):\n",
    "        return len(self.items)"
   ]
  },
  {
   "cell_type": "markdown",
   "metadata": {},
   "source": [
    "### Реализация записи в файл"
   ]
  },
  {
   "cell_type": "code",
   "execution_count": 4,
   "metadata": {},
   "outputs": [],
   "source": [
    "import copy\n",
    "import codecs\n",
    "#чтение и запись в файл\n",
    "\n",
    "# Вывод из файла в стек\n",
    "def add_with_Stack(file):\n",
    "    st=Stack()\n",
    "    try:\n",
    "        f=open(file,'r', encoding=\"utf-8\")\n",
    "        t=f.readlines()\n",
    "        f.close()\n",
    "        for i in range(len(t)):\n",
    "            st.add(t[i])\n",
    "        return st\n",
    "    except:\n",
    "        print(\"Ошибка, не удалось найти файл\")\n",
    "\n",
    "        \n",
    "# Вывод файла в переменную типа string\n",
    "def add_with_str(file):\n",
    "    rez=\"\"\n",
    "    try:\n",
    "        f=codecs.open(file+'.txt', 'r', encoding='utf-8')\n",
    "        t=f.readlines()\n",
    "        f.close()\n",
    "        for i in range(len(t)):\n",
    "            rez=rez+t[i]\n",
    "        return rez\n",
    "    except:\n",
    "        print(\"Ошибка, не удалось найти файл\")\n",
    "        \n",
    "# Вывод из файла в дек\n",
    "def add_with_Deque(file):\n",
    "    st = Deque()\n",
    "    try:\n",
    "        f=codecs.open(file+'.txt', 'r', encoding='utf-8')\n",
    "        t=f.readlines()\n",
    "        f.close()\n",
    "        for i in range(len(t)):\n",
    "            st.add_Left(t[i])\n",
    "        return st\n",
    "    except:\n",
    "        print(\"Ошибка, не удалось найти файл\")\n",
    "\n",
    "# Запись из дека в файл\n",
    "def add_file(file, Deque):\n",
    "    try:\n",
    "        f=open(file,\"w\", encoding=\"utf-8\")\n",
    "        while not Deque.isEmpty():\n",
    "            f.write(Deque.removeLeft())\n",
    "        f.close()\n",
    "    except:\n",
    "        print(\"Ошибка\")\n",
    "        return None\n",
    "\n",
    "def add_file_Stack(file, Stack):\n",
    "    try:\n",
    "        f=open(file,'w', encoding=\"utf-8\")\n",
    "        while not Stack.isEmpty():\n",
    "            f.write(Stack.pop())\n",
    "        f.close()\n",
    "    except:\n",
    "        print(\"Ошибка\")\n",
    "        return None\n",
    "\n",
    "# Ввод из переменной в файл\n",
    "def add_file_str(file, text):\n",
    "    try:\n",
    "        f=open(file+'.txt',\"w\", encoding=\"utf-8\")\n",
    "        f.write(text)\n",
    "        f.close()\n",
    "    except:\n",
    "        print(\"Ошибка\")\n",
    "        return None"
   ]
  },
  {
   "cell_type": "markdown",
   "metadata": {
    "scrolled": true
   },
   "source": [
    "### Задание №1\n",
    "Отсортировать строки файла, содержащие названия книг, в алфавитном порядке с использованием двух деков."
   ]
  },
  {
   "cell_type": "code",
   "execution_count": 23,
   "metadata": {},
   "outputs": [
    {
     "name": "stdout",
     "output_type": "stream",
     "text": [
      "Белая гвардия, М Булгаков\r\n",
      "\n",
      "Братья Карамазовы, Ф Достоевский\r\n",
      "\n",
      "Война и мир, Л Толстой\r\n",
      "\n",
      "Два капитана, В Каверин\r\n",
      "\n",
      "Мастер и Маргарита, М Булгаков\r\n",
      "\n",
      "Мертвые души, Н Гоголь\r\n",
      "\n",
      "Преступление и наказание, Ф Достоевский\r\n",
      "\n",
      "Собачье сердце, М Булгаков\r\n",
      "\n",
      "Тихий Дон, М Шолохов\r\n",
      "\n",
      "Человек-амфибия, А Беляев\n"
     ]
    }
   ],
   "source": [
    "def Task_1(file_res, file_rezult):\n",
    "    st1=add_with_Deque(file_res)\n",
    "    if st1==None:\n",
    "        return\n",
    "    st2= Deque()\n",
    "    while not st1.isEmpty():\n",
    "        el=st1.removeLeft()\n",
    "        while not st2.isEmpty() and st2.peek_left()<el:\n",
    "            st1.add_Right(st2.removeLeft())\n",
    "        st2.add_Left(el)\n",
    "    \n",
    "    add_file(file_rezult, copy.deepcopy(st2))\n",
    "    return st2\n",
    "            \n",
    "r=Task_1('Lab4-text-№1', 'Lab4-text-№1-result')\n",
    "if r is not None:\n",
    "    while not r.isEmpty():\n",
    "        print(r.removeLeft())"
   ]
  },
  {
   "cell_type": "markdown",
   "metadata": {},
   "source": [
    "### Задание №2\n",
    "Дек содержит последовательность символов для шифровки сообщений. Дан текстовый файл, содержащий зашифрованное сообщение. Пользуясь деком, расшифровать текст. \n",
    "Известно, что при шифровке каждый символ сообщения заменялся следующим за ним в деке по часовой стрелке через один."
   ]
  },
  {
   "cell_type": "code",
   "execution_count": 4,
   "metadata": {},
   "outputs": [
    {
     "data": {
      "text/plain": [
       "47"
      ]
     },
     "execution_count": 4,
     "metadata": {},
     "output_type": "execute_result"
    }
   ],
   "source": [
    "def Task_2(file_name):\n",
    "    file = open(file_name, encoding='utf-8')\n",
    "\n",
    "    deque_t2_encoder = Deque()\n",
    "# формируем дек\n",
    "    for i in range(32):\n",
    "        deque_t2_encoder.add_Right(str(ord(\"а\") + i))\n",
    "        deque_t2_encoder.add_Right(str(ord(\" \")))\n",
    "\n",
    "    s_message = ''\n",
    "    for line in file:\n",
    "        for sym in line:\n",
    "            while sym != chr(int(deque_t2_encoder.peek_right())):\n",
    "                deque_t2_encoder.add_Left(deque_t2_encoder.removeRight())\n",
    "\n",
    "            deque_t2_encoder.add_Left(deque_t2_encoder.removeRight())\n",
    "            deque_t2_encoder.add_Left(deque_t2_encoder.removeRight())\n",
    "            s_message += chr(int(deque_t2_encoder.peek_right()))\n",
    "        return s_message\n",
    "\n",
    "s_message = Task_2('Lab4-text-№2.txt')\n",
    "\n",
    "file = open('Lab4-text-№2', 'w')\n",
    "\n",
    "file.write(s_message)"
   ]
  },
  {
   "cell_type": "markdown",
   "metadata": {},
   "source": [
    "### Задание №3\n",
    "Даны три стержня и n дисков различного размера. Диски можно надевать на стержни, образуя из них башни. Перенести n дисков со стержня А на стержень С, сохранив их первоначальный порядок. При переносе дисков необходимо соблюдать следующие правила:\n",
    "- на каждом шаге со стержня на стержень переносить только один диск;\n",
    "- диск нельзя помещать на диск меньшего размера;\n",
    "- для промежуточного хранения можно использовать стержень В.\n",
    "Реализовать алгоритм, используя три стека вместо стержней А, В, С. Информация о дисках хранится в исходном файле."
   ]
  },
  {
   "cell_type": "code",
   "execution_count": null,
   "metadata": {},
   "outputs": [
    {
     "name": "stdout",
     "output_type": "stream",
     "text": [
      "1\n",
      "3\n",
      "5\n",
      "6\n",
      "len 4\n"
     ]
    }
   ],
   "source": [
    "def move(a,b):\n",
    "    if a.isEmpty() and not b.isEmpty():\n",
    "        a.push(b.pop())\n",
    "    elif  not a.isEmpty() and b.isEmpty():\n",
    "        b.push(a.pop())\n",
    "    elif a.isEmpty() and b.isEmpty():\n",
    "        return\n",
    "    elif a.peek()>b.peek():\n",
    "        a.push(b.pop())\n",
    "    else:\n",
    "        b.push(a.pop())       \n",
    "def Task_3(file):\n",
    "    A=Stack()\n",
    "    B=Stack()\n",
    "    C=Stack()\n",
    "    st=add_with_str(file)\n",
    "    if st is None:\n",
    "        return\n",
    "    disk=st.split(\" \")\n",
    "    for i in range(len(disk)):\n",
    "        print(disk[i])\n",
    "        A.push(int(disk[i]))\n",
    "    print(\"len\",len(disk))   \n",
    "    if len(disk)%2==0:\n",
    "        while len(C) is not len(disk):\n",
    "            move(A, B)\n",
    "            move(A, C)\n",
    "            if len(C) is not len(disk):\n",
    "                move(B, C)\n",
    "    else:\n",
    "        while len(C) is not len(disk):\n",
    "            move(A, C)\n",
    "            move(A, B)\n",
    "            if len(C) is not len(disk):\n",
    "                move(B, C)\n",
    "                \n",
    "    print(len(A), len(B), len(C))\n",
    "    for i in range(len(C)):\n",
    "            print(C.pop())    \n",
    "Task_3('Lab4-text-№3')"
   ]
  },
  {
   "cell_type": "markdown",
   "metadata": {},
   "source": [
    "### Задание №4\n",
    "Дан текстовый файл с программой на алгоритмическом языке. За один просмотр файла проверить баланс круглых скобок в тексте, используя стек."
   ]
  },
  {
   "cell_type": "code",
   "execution_count": 16,
   "metadata": {},
   "outputs": [
    {
     "name": "stdout",
     "output_type": "stream",
     "text": [
      "False\n"
     ]
    }
   ],
   "source": [
    "def Task_4(file):\n",
    "    s=Stack()\n",
    "    st=add_with_str(file)\n",
    "    if st is None:\n",
    "        return\n",
    "    for i in st:\n",
    "        if i=='(':\n",
    "            s.push(i)\n",
    "        elif i==')':\n",
    "            if s.isEmpty():\n",
    "                return False\n",
    "            s.pop()\n",
    "    return s.isEmpty()\n",
    "print(Task_4('Lab4-text-№4'))"
   ]
  },
  {
   "cell_type": "markdown",
   "metadata": {},
   "source": [
    "### Задание №5\n",
    "Дан текстовый файл с программой на алгоритмическом языке. За один просмотр файла проверить баланс квадратных скобок в тексте, используя дек."
   ]
  },
  {
   "cell_type": "code",
   "execution_count": 15,
   "metadata": {},
   "outputs": [
    {
     "name": "stdout",
     "output_type": "stream",
     "text": [
      "True\n"
     ]
    }
   ],
   "source": [
    "def Task_5(file):\n",
    "    s = Deque()\n",
    "    st = add_with_str(file)\n",
    "    if st is None:\n",
    "        return\n",
    "    for i in st:\n",
    "        if i=='[':\n",
    "            s.add_Right(i)\n",
    "        elif i==']':\n",
    "            if s.isEmpty():\n",
    "                return False\n",
    "            s.removeLeft()\n",
    "    return s.isEmpty()\n",
    "print(Task_5('Lab4-text-№5'))"
   ]
  },
  {
   "cell_type": "markdown",
   "metadata": {},
   "source": [
    "### Задание №6\n",
    "Дан файл из символов. Используя стек, за один просмотр файла напечатать сначала все цифры, затем все буквы, и, наконец, все остальные символы, сохраняя исходный порядок в каждой группе символов."
   ]
  },
  {
   "cell_type": "code",
   "execution_count": 5,
   "metadata": {},
   "outputs": [
    {
     "name": "stdout",
     "output_type": "stream",
     "text": [
      "Цифры, содержащиеся в тексте:\n",
      "3343252535\n",
      "Буквы, содержащиеся в тексте:\n",
      "qewqwererw\n",
      "Другие символы, содержащиеся в тексте:\n",
      "{}*()\n"
     ]
    }
   ],
   "source": [
    "def Task_6(file):\n",
    "    cifri = Stack()\n",
    "    bukvi = Stack()\n",
    "    symbols = Stack()\n",
    "    st=add_with_str(file)\n",
    "    if st is None:\n",
    "        return\n",
    "    i=len(st)-1\n",
    "    while i>=0:\n",
    "        if st[i].isalpha():\n",
    "            bukvi.push(st[i])\n",
    "        elif st[i].isdigit():\n",
    "            cifri.push(st[i])\n",
    "        else:\n",
    "            symbols.push(st[i])\n",
    "        i=i-1\n",
    "    print(\"Цифры, содержащиеся в тексте:\")\n",
    "    d=\"\"\n",
    "    \n",
    "    while not cifri.isEmpty():\n",
    "        d=d+cifri.pop()\n",
    "    print(d)\n",
    "    d=\"\"\n",
    "    print(\"Буквы, содержащиеся в тексте:\")\n",
    "    while not bukvi.isEmpty():\n",
    "        d=d+bukvi.pop()\n",
    "    print(d)\n",
    "    d=\"\"\n",
    "    print(\"Другие символы, содержащиеся в тексте:\")\n",
    "    while not symbols.isEmpty():\n",
    "        d=d+symbols.pop()\n",
    "    print(d)\n",
    "Task_6('Lab4-text-№6')"
   ]
  },
  {
   "cell_type": "markdown",
   "metadata": {},
   "source": [
    "### Задание №7\n",
    "Дан файл из целых чисел. Используя дек, за один просмотр файла напечатать сначала все отрицательные числа, затем все положительные числа, сохраняя исходный порядок в каждой группе."
   ]
  },
  {
   "cell_type": "code",
   "execution_count": 6,
   "metadata": {},
   "outputs": [
    {
     "name": "stdout",
     "output_type": "stream",
     "text": [
      "-1\n",
      "-2\n",
      "-3\n",
      "1\n",
      "2\n",
      "3\n"
     ]
    }
   ],
   "source": [
    "def Task_7(file):\n",
    "    rez = Deque()\n",
    "    st = add_with_str(file)\n",
    "    if st is None:\n",
    "        return\n",
    "    mas = st.split(\" \")\n",
    "    mas_ = list()\n",
    "    for i in mas:\n",
    "        mas_.append(int(i))\n",
    "    for i in mas_:\n",
    "        ##print(i)\n",
    "        if i>= 0:\n",
    "            rez.add_Right(i)\n",
    "        else:\n",
    "            if rez.isEmpty and rez.peek_left()>=0:\n",
    "                rez.add_Left(i)\n",
    "            else:\n",
    "                while rez.peek_left() < 0:\n",
    "                    rez.add_Right(rez.removeLeft())\n",
    "                rez.add_Left(i)\n",
    "                while rez.peek_right() < 0:\n",
    "                    rez.add_Left(rez.removeRight())\n",
    "                \n",
    "    while not rez.isEmpty():\n",
    "        print(rez.removeLeft())\n",
    "Task_7('Lab4-text-№7')"
   ]
  },
  {
   "cell_type": "markdown",
   "metadata": {},
   "source": [
    "### Задание №8\n",
    "Дан текстовый файл. Используя стек, сформировать новый текстовый файл, содержащий строки исходного файла, записанные в обратном порядке: первая строка становится последней, вторая – предпоследней и т.д."
   ]
  },
  {
   "cell_type": "code",
   "execution_count": 19,
   "metadata": {},
   "outputs": [
    {
     "name": "stdout",
     "output_type": "stream",
     "text": [
      "4. dddddddd 3. cccccccc \n",
      "2. bbbbbbbb \n",
      "1. aaaaaaaa \n",
      "\n"
     ]
    }
   ],
   "source": [
    "def Task_8(txt):\n",
    "    s = Stack()\n",
    "    for line in txt:\n",
    "        s.push(line)\n",
    "        ss = \"\"\n",
    "    for _ in range(len(txt)):\n",
    "        ss += s.pop()\n",
    "    print(ss);\n",
    "\n",
    "Task_8(list(open(\"Lab4-text-№8.txt\")))"
   ]
  },
  {
   "cell_type": "markdown",
   "metadata": {},
   "source": [
    "### Вывод\n"
   ]
  },
  {
   "cell_type": "markdown",
   "metadata": {},
   "source": []
  }
 ],
 "metadata": {
  "kernelspec": {
   "display_name": "Python 3",
   "language": "python",
   "name": "python3"
  },
  "language_info": {
   "codemirror_mode": {
    "name": "ipython",
    "version": 3
   },
   "file_extension": ".py",
   "mimetype": "text/x-python",
   "name": "python",
   "nbconvert_exporter": "python",
   "pygments_lexer": "ipython3",
   "version": "3.8.3"
  }
 },
 "nbformat": 4,
 "nbformat_minor": 5
}
