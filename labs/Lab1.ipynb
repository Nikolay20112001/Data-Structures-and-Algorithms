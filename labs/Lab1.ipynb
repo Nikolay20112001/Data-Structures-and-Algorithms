{
 "cells": [
  {
   "cell_type": "markdown",
   "metadata": {},
   "source": [
    "# Лабораторная работа №1\n",
    "## Выполнил студент группы БФИ2001 Климов Николай Юрьевич"
   ]
  },
  {
   "cell_type": "markdown",
   "metadata": {},
   "source": [
    "### Оглавление\n",
    "1. [Задание 1](#Задание-№1)\n",
    "2. [Задание 2](#Задание-№2)\n",
    "3. [Задание 3](#Задание-№3)\n",
    "4. [Вывод](#Вывод)"
   ]
  },
  {
   "cell_type": "markdown",
   "metadata": {},
   "source": [
    "### Задание №1\n",
    "<i> Вызвать функцию print() и передать туда строку Hello, World! </i>"
   ]
  },
  {
   "cell_type": "code",
   "execution_count": 149,
   "metadata": {},
   "outputs": [
    {
     "name": "stdout",
     "output_type": "stream",
     "text": [
      "Hello, World!\n"
     ]
    }
   ],
   "source": [
    "print('Hello, World!')"
   ]
  },
  {
   "cell_type": "markdown",
   "metadata": {},
   "source": [
    "### Задание №2\n",
    "Написать генератор случайных матриц(многомерных), который принимает\n",
    "опциональные параметры <b>m</b>, <b>n</b>, <b>min_limit</b>, <b>max_limit</b>, где <b>m</b> и <b>n</b> указывают размер\n",
    "матрицы, а <b>min_lim</b> и <b>max_lim</b> - минимальное и максимальное значение для\n",
    "генерируемого числа."
   ]
  },
  {
   "cell_type": "code",
   "execution_count": 150,
   "metadata": {},
   "outputs": [],
   "source": [
    "import random\n",
    "import time"
   ]
  },
  {
   "cell_type": "code",
   "execution_count": 151,
   "metadata": {},
   "outputs": [
    {
     "name": "stdout",
     "output_type": "stream",
     "text": [
      "Введите количество строк в матрице: 10\n",
      "Введите количество столбцов в матрице: 10\n",
      "Введите минимальное значение для генерируемого числа: 10\n",
      "Введите максимальное значение для генерируемого числа: 100\n",
      "46 89 68 88 83 16 82 68 71 35 \n",
      "22 25 59 88 23 62 95 37 16 76 \n",
      "62 69 53 19 51 31 86 27 27 33 \n",
      "42 43 24 77 45 49 14 79 80 11 \n",
      "50 93 51 16 96 32 80 96 44 21 \n",
      "74 71 32 24 76 56 69 58 97 35 \n",
      "57 11 23 70 52 72 92 23 60 25 \n",
      "13 16 24 26 71 55 67 95 86 28 \n",
      "84 42 91 94 90 19 37 78 65 84 \n",
      "37 71 34 63 38 53 98 97 26 85 \n"
     ]
    }
   ],
   "source": [
    "user_m = int(input('Введите количество строк в матрице: '))\n",
    "user_n = int(input('Введите количество столбцов в матрице: '))\n",
    "user_min_limit = int(input('Введите минимальное значение для генерируемого числа: '))\n",
    "user_max_limit = int(input('Введите максимальное значение для генерируемого числа: '))\n",
    "def matrixGenerator(user_m, user_n, user_min_limit, user_max_limit):\n",
    "    matrix = [[0 for i in range(user_n)] for j in range(user_m)]\n",
    "    for i in range(user_m):\n",
    "        for j in range(user_n):\n",
    "            matrix[i][j] = random.randint(user_min_limit, user_max_limit)\n",
    "    return matrix\n",
    "\n",
    "matrix = matrixGenerator(user_m, user_n, user_min_limit, user_max_limit)\n",
    "\n",
    "def matrixOutputConsole(matrix):\n",
    "    for i in range(user_m):\n",
    "        for j  in range(user_n):\n",
    "            print(matrix[i][j], end=' ')\n",
    "        print()\n",
    "matrixOutputConsole(matrix)"
   ]
  },
  {
   "cell_type": "markdown",
   "metadata": {},
   "source": [
    "## Задание №3\n",
    "Реализовать методы сортировки строк числовой матрицы в соответствии с\n",
    "заданием. Оценить время работы каждого алгоритма сортировки и сравнить его со\n",
    "временем стандартной функции сортировки. Испытания проводить на сгенерированных\n",
    "матрицах."
   ]
  },
  {
   "cell_type": "code",
   "execution_count": 152,
   "metadata": {},
   "outputs": [],
   "source": [
    "import copy\n",
    "import math"
   ]
  },
  {
   "cell_type": "code",
   "execution_count": 153,
   "metadata": {},
   "outputs": [
    {
     "name": "stdout",
     "output_type": "stream",
     "text": [
      "46 89 68 88 83 16 82 68 71 35 \n",
      "22 25 59 88 23 62 95 37 16 76 \n",
      "62 69 53 19 51 31 86 27 27 33 \n",
      "42 43 24 77 45 49 14 79 80 11 \n",
      "50 93 51 16 96 32 80 96 44 21 \n",
      "74 71 32 24 76 56 69 58 97 35 \n",
      "57 11 23 70 52 72 92 23 60 25 \n",
      "13 16 24 26 71 55 67 95 86 28 \n",
      "84 42 91 94 90 19 37 78 65 84 \n",
      "37 71 34 63 38 53 98 97 26 85 \n",
      "\n",
      "16 35 46 68 68 71 82 83 88 89 \n",
      "16 22 23 25 37 59 62 76 88 95 \n",
      "19 27 27 31 33 51 53 62 69 86 \n",
      "11 14 24 42 43 45 49 77 79 80 \n",
      "16 21 32 44 50 51 80 93 96 96 \n",
      "24 32 35 56 58 69 71 74 76 97 \n",
      "11 23 23 25 52 57 60 70 72 92 \n",
      "13 16 24 26 28 55 67 71 86 95 \n",
      "19 37 42 65 78 84 84 90 91 94 \n",
      "26 34 37 38 53 63 71 85 97 98 \n",
      "--- 2 ms ---\n"
     ]
    }
   ],
   "source": [
    "# Сортировка выбором.\n",
    "# Берётся срез массива, в котором минимальный элемент переносят в самый левый угол,\n",
    "# после чего срез уменьшается и цикл повторяется.\n",
    "matrix0 = copy.deepcopy(matrix)\n",
    "matrixOutputConsole(matrix0)\n",
    "print()\n",
    "start_time = time.time()\n",
    "def sortingByChoice(matrix):\n",
    "    for m in range(user_m):\n",
    "        for i in range(user_n):\n",
    "            minIndex = i\n",
    "            for j in range(i+1,user_n):\n",
    "                if (matrix[m][j] < matrix[m][minIndex]):\n",
    "                    minIndex = j\n",
    "            if (minIndex != i):\n",
    "                matrix[m][i], matrix[m][minIndex] = matrix[m][minIndex], matrix[m][i]\n",
    "    return matrix\n",
    "matrixOutputConsole(sortingByChoice(matrix0))\n",
    "print(\"--- {0} ms ---\".format(round((time.time() - start_time)*1000)))"
   ]
  },
  {
   "cell_type": "code",
   "execution_count": 154,
   "metadata": {
    "scrolled": true
   },
   "outputs": [
    {
     "name": "stdout",
     "output_type": "stream",
     "text": [
      "46 89 68 88 83 16 82 68 71 35 \n",
      "22 25 59 88 23 62 95 37 16 76 \n",
      "62 69 53 19 51 31 86 27 27 33 \n",
      "42 43 24 77 45 49 14 79 80 11 \n",
      "50 93 51 16 96 32 80 96 44 21 \n",
      "74 71 32 24 76 56 69 58 97 35 \n",
      "57 11 23 70 52 72 92 23 60 25 \n",
      "13 16 24 26 71 55 67 95 86 28 \n",
      "84 42 91 94 90 19 37 78 65 84 \n",
      "37 71 34 63 38 53 98 97 26 85 \n",
      "\n",
      "16 35 46 68 68 71 82 83 88 89 \n",
      "16 22 23 25 37 59 62 76 88 95 \n",
      "19 27 27 31 33 51 53 62 69 86 \n",
      "11 14 24 42 43 45 49 77 79 80 \n",
      "16 21 32 44 50 51 80 93 96 96 \n",
      "24 32 35 56 58 69 71 74 76 97 \n",
      "11 23 23 25 52 57 60 70 72 92 \n",
      "13 16 24 26 28 55 67 71 86 95 \n",
      "19 37 42 65 78 84 84 90 91 94 \n",
      "26 34 37 38 53 63 71 85 97 98 \n",
      "--- 5 ms ---\n"
     ]
    }
   ],
   "source": [
    "# Сортировка вставкой.\n",
    "matrix1 = copy.deepcopy(matrix)\n",
    "matrixOutputConsole(matrix1)\n",
    "print()\n",
    "start_time = time.time()\n",
    "def sortingByInserts(matrix):\n",
    "    for m in range(user_m):\n",
    "        for i in range(1,user_n):\n",
    "            j = i\n",
    "            while j > 0 and matrix[m][j-1] > matrix[m][j]:\n",
    "                matrix[m][j-1], matrix[m][j] = matrix[m][j], matrix[m][j-1]\n",
    "                j -= 1\n",
    "    return matrix\n",
    "matrixOutputConsole(sortingByInserts(matrix1))\n",
    "print(\"--- {0} ms ---\".format(round((time.time() - start_time)*1000)))\n"
   ]
  },
  {
   "cell_type": "code",
   "execution_count": 155,
   "metadata": {},
   "outputs": [
    {
     "name": "stdout",
     "output_type": "stream",
     "text": [
      "46 89 68 88 83 16 82 68 71 35 \n",
      "22 25 59 88 23 62 95 37 16 76 \n",
      "62 69 53 19 51 31 86 27 27 33 \n",
      "42 43 24 77 45 49 14 79 80 11 \n",
      "50 93 51 16 96 32 80 96 44 21 \n",
      "74 71 32 24 76 56 69 58 97 35 \n",
      "57 11 23 70 52 72 92 23 60 25 \n",
      "13 16 24 26 71 55 67 95 86 28 \n",
      "84 42 91 94 90 19 37 78 65 84 \n",
      "37 71 34 63 38 53 98 97 26 85 \n",
      "\n",
      "16 35 46 68 68 71 82 83 88 89 \n",
      "16 22 23 25 37 59 62 76 88 95 \n",
      "19 27 27 31 33 51 53 62 69 86 \n",
      "11 14 24 42 43 45 49 77 79 80 \n",
      "16 21 32 44 50 51 80 93 96 96 \n",
      "24 32 35 56 58 69 71 74 76 97 \n",
      "11 23 23 25 52 57 60 70 72 92 \n",
      "13 16 24 26 28 55 67 71 86 95 \n",
      "19 37 42 65 78 84 84 90 91 94 \n",
      "26 34 37 38 53 63 71 85 97 98 \n",
      "--- 3 ms ---\n"
     ]
    }
   ],
   "source": [
    "# Сортировка обменом. || Сортировка пузырьком.\n",
    "matrix2 = copy.deepcopy(matrix)\n",
    "matrixOutputConsole(matrix2)\n",
    "print()\n",
    "start_time = time.time()\n",
    "def sortingByBubble(matrix):\n",
    "    for m in range(user_m):\n",
    "        for i in range(user_n):\n",
    "            for j in range(user_n-i-1):\n",
    "                if matrix[m][j] > matrix[m][j+1]:\n",
    "                    matrix[m][j],matrix[m][j+1] = matrix[m][j+1],matrix[m][j]\n",
    "    return matrix\n",
    "matrixOutputConsole(sortingByBubble(matrix2))\n",
    "print(\"--- {0} ms ---\".format(round((time.time() - start_time)*1000)))"
   ]
  },
  {
   "cell_type": "code",
   "execution_count": 156,
   "metadata": {},
   "outputs": [
    {
     "name": "stdout",
     "output_type": "stream",
     "text": [
      "46 89 68 88 83 16 82 68 71 35 \n",
      "22 25 59 88 23 62 95 37 16 76 \n",
      "62 69 53 19 51 31 86 27 27 33 \n",
      "42 43 24 77 45 49 14 79 80 11 \n",
      "50 93 51 16 96 32 80 96 44 21 \n",
      "74 71 32 24 76 56 69 58 97 35 \n",
      "57 11 23 70 52 72 92 23 60 25 \n",
      "13 16 24 26 71 55 67 95 86 28 \n",
      "84 42 91 94 90 19 37 78 65 84 \n",
      "37 71 34 63 38 53 98 97 26 85 \n",
      "\n",
      "16 35 46 68 68 71 82 83 88 89 \n",
      "16 22 23 25 37 59 62 76 88 95 \n",
      "19 27 27 31 33 51 53 62 69 86 \n",
      "11 14 24 42 43 45 49 77 79 80 \n",
      "16 21 32 44 50 51 80 93 96 96 \n",
      "24 32 35 56 58 69 71 74 76 97 \n",
      "11 23 23 25 52 57 60 70 72 92 \n",
      "13 16 24 26 28 55 67 71 86 95 \n",
      "19 37 42 65 78 84 84 90 91 94 \n",
      "26 34 37 38 53 63 71 85 97 98 \n",
      "--- 3 ms ---\n"
     ]
    }
   ],
   "source": [
    "# Сортировка Шелла.\n",
    "matrix3 = copy.deepcopy(matrix)\n",
    "matrixOutputConsole(matrix3)\n",
    "start_time = time.time()\n",
    "def sortingShell(array):\n",
    "    for m in range(user_m):\n",
    "        n = len(array)\n",
    "        k = int(math.log2(n))\n",
    "        interval = 2**k -1\n",
    "        while interval > 0:\n",
    "            for i in range(interval, n):\n",
    "                temp = array[m][i]\n",
    "                j = i\n",
    "                while j >= interval and array[m][j - interval] > temp:\n",
    "                    array[m][j] = array[m][j - interval]\n",
    "                    j -= interval\n",
    "                array[m][j] = temp\n",
    "            k -= 1\n",
    "            interval = 2**k -1\n",
    "    return array\n",
    "print()\n",
    "matrixOutputConsole(sortingShell(matrix3))\n",
    "time_Shell_sort = round((time.time() - start_time)*1000)\n",
    "print(\"--- {0} ms ---\".format(time_Shell_sort))"
   ]
  },
  {
   "cell_type": "code",
   "execution_count": 157,
   "metadata": {},
   "outputs": [
    {
     "name": "stdout",
     "output_type": "stream",
     "text": [
      "46 89 68 88 83 16 82 68 71 35 \n",
      "22 25 59 88 23 62 95 37 16 76 \n",
      "62 69 53 19 51 31 86 27 27 33 \n",
      "42 43 24 77 45 49 14 79 80 11 \n",
      "50 93 51 16 96 32 80 96 44 21 \n",
      "74 71 32 24 76 56 69 58 97 35 \n",
      "57 11 23 70 52 72 92 23 60 25 \n",
      "13 16 24 26 71 55 67 95 86 28 \n",
      "84 42 91 94 90 19 37 78 65 84 \n",
      "37 71 34 63 38 53 98 97 26 85 \n",
      "\n",
      "[16, 35, 46, 68, 68, 71, 82, 83, 88, 89]\n",
      "[16, 22, 23, 25, 37, 59, 62, 76, 88, 95]\n",
      "[19, 27, 27, 31, 33, 51, 53, 62, 69, 86]\n",
      "[11, 14, 24, 42, 43, 45, 49, 77, 79, 80]\n",
      "[16, 21, 32, 44, 50, 51, 80, 93, 96, 96]\n",
      "[24, 32, 35, 56, 58, 69, 71, 74, 76, 97]\n",
      "[11, 23, 23, 25, 52, 57, 60, 70, 72, 92]\n",
      "[13, 16, 24, 26, 28, 55, 67, 71, 86, 95]\n",
      "[19, 37, 42, 65, 78, 84, 84, 90, 91, 94]\n",
      "[26, 34, 37, 38, 53, 63, 71, 85, 97, 98]\n",
      "--- 1 ms ---\n"
     ]
    }
   ],
   "source": [
    "# Быстрая сортировка.\n",
    "matrix4 = copy.deepcopy(matrix)\n",
    "matrixOutputConsole(matrix4)\n",
    "start_time = time.time()\n",
    "def sortingQuick(array):\n",
    "    if len(array)> 1:\n",
    "        pivot=array.pop()\n",
    "        grtr_lst, equal_lst, smlr_lst = [], [pivot], []\n",
    "        for item in array:\n",
    "            if item == pivot:\n",
    "                equal_lst.append(item)\n",
    "            elif item > pivot:\n",
    "                grtr_lst.append(item)\n",
    "            else:\n",
    "                smlr_lst.append(item)\n",
    "        return (sortingQuick(smlr_lst) + equal_lst + sortingQuick(grtr_lst))\n",
    "    else:\n",
    "        return array\n",
    "print()\n",
    "for k in range(int(user_m)):\n",
    "    print(sortingQuick(matrix4[k]))\n",
    "print(\"--- {0} ms ---\".format(round((time.time() - start_time)*1000)))    "
   ]
  },
  {
   "cell_type": "code",
   "execution_count": null,
   "metadata": {},
   "outputs": [],
   "source": [
    "# Турнирная сортировка.\n",
    "matrix5 = copy.deepcopy(matrix)\n",
    "matrixOutputConsole(matrix5)\n",
    "start_time = time.time()\n",
    "class PriorityHeap:\n",
    "    def __init__(self) -> None:\n",
    "        self.cache: list[int] = []\n",
    "        self.size: int = 0\n",
    "        self.max_size = 32\n",
    "\n",
    "    def pop_max(self) -> any: ###\n",
    "        res = self.cache[0]\n",
    "        self.size -= 1\n",
    "        self.cache[0] = self.cache[self.size]\n",
    "        self.cache.pop(self.size)\n",
    "        self.iter_heapify(0)\n",
    "        return res\n",
    "\n",
    "    def max_heap_insert(self, key: int):\n",
    "        self.cache.append(-1000000000000000)\n",
    "        self.insert_key(key, self.size)       #iter_key\n",
    "        self.size += 1\n",
    "        \n",
    "    def insert_key(self, value: int, i: int):\n",
    "        self.cache[i]  = value\n",
    "        parent = self.parent(i)\n",
    "        while i > 0 and self.cache[parent] > self.cache[i]:\n",
    "            self.cache[parent], self.cache[i] = self.cache[i], self.cache[parent]\n",
    "            i = parent\n",
    "            parent = self.parent(i)\n",
    "\n",
    "    def parent(self, i: int) -> int:\n",
    "        res = (i >> 1) - 1\n",
    "        if res < 0:\n",
    "            return 0\n",
    "        else:\n",
    "            return res\n",
    "\n",
    "    def iter_heapify(self, i: int) -> None:\n",
    "        while True:\n",
    "            l: int = (i << 1) + 1\n",
    "            r: int = (i << 1) + 2\n",
    "            largest: int = i\n",
    "\n",
    "            if l < self.size and self.cache[l] < self.cache[largest]:\n",
    "                largest = l\n",
    "\n",
    "            if r < self.size and self.cache[r] < self.cache[largest]:\n",
    "                largest = r\n",
    "\n",
    "            if largest ==i:\n",
    "                break\n",
    "            else:\n",
    "                self.cache[i], self.cache[largest] = self.cache[largest], self.cache[i]\n",
    "                i = largest\n",
    "\n",
    "                \n",
    "                \n",
    "def tournament_sort(a: list[int]) -> list[int]:\n",
    "    a_len: int = len(a)\n",
    "    heap = PriorityHeap()\n",
    "    winners: list[int] = []\n",
    "    losers: list[int] = []\n",
    "\n",
    "    while heap.size < heap.max_size and heap.size < a_len:\n",
    "        elem = a[heap.size]\n",
    "        if winners and winners[-1] > elem:\n",
    "            losers.append(elem)\n",
    "        else:\n",
    "            heap.max_heap_insert(a[heap.size])\n",
    "\n",
    "    for i in range(heap.size, a_len):\n",
    "        elem: int = a[i]\n",
    "\n",
    "        if winners and winners[-1] > elem:\n",
    "            losers.append(elem)\n",
    "        else: \n",
    "            max_elem: int = heap.pop_max()\n",
    "\n",
    "            if not winners:\n",
    "                winners.append(max_elem)\n",
    "            elif winners[-1] <= max_elem:\n",
    "                winners.append(max_elem)\n",
    "            else:\n",
    "                losers.append(max_elem)\n",
    "\n",
    "            heap.max_heap_insert(elem)\n",
    "    \n",
    "    while heap.size > 0:\n",
    "        max_elem: int = heap.pop_max()\n",
    "\n",
    "        if not winners:\n",
    "            winners.append(max_elem)\n",
    "        elif winners[-1] <= max_elem:\n",
    "            winners.append(max_elem)\n",
    "        else: \n",
    "            losers.append(max_elem)\n",
    "    \n",
    "    if not losers:\n",
    "        return winners\n",
    "    else:\n",
    "        winners2: list[int] = tournament_sort(losers)\n",
    "\n",
    "        i: int = 0\n",
    "        j: int = 0\n",
    "        winners1_len: int = len(winners)\n",
    "        winners2_len: int = len(winners2)\n",
    "\n",
    "        winners_res: list[int] = []\n",
    "\n",
    "        while i < winners1_len and j < winners2_len:\n",
    "            if winners[i] < winners2[j]:\n",
    "                winners_res.append(winners[i])\n",
    "                i += 1\n",
    "            else:\n",
    "                winners_res.append(winners2[j])\n",
    "                j += 1\n",
    "        while i < winners1_len:\n",
    "            winners_res.append(winners[i])\n",
    "            i += 1\n",
    "        while j < winners2_len:\n",
    "            winners_res.append(winners2[j])\n",
    "            j += 1\n",
    "        return winners_res\n",
    "\n",
    "print('Исходная матрица')\n",
    "for k in range(int(user_m)):\n",
    "    print(matrix[k])\n",
    "\n",
    "print('Отсортированная матрица')\n",
    "tournament_sort_matrix = copy.deepcopy(matrix)\n",
    "for k in range(int(user_m)):\n",
    "    print(tournament_sort(tournament_sort_matrix[k]))\n",
    "\n",
    "print(\"--- {0} ms ---\".format(round((time.time() - start_time)*1000)))"
   ]
  },
  {
   "cell_type": "code",
   "execution_count": 161,
   "metadata": {},
   "outputs": [
    {
     "name": "stdout",
     "output_type": "stream",
     "text": [
      "46 89 68 88 83 16 82 68 71 35 \n",
      "22 25 59 88 23 62 95 37 16 76 \n",
      "62 69 53 19 51 31 86 27 27 33 \n",
      "42 43 24 77 45 49 14 79 80 11 \n",
      "50 93 51 16 96 32 80 96 44 21 \n",
      "74 71 32 24 76 56 69 58 97 35 \n",
      "57 11 23 70 52 72 92 23 60 25 \n",
      "13 16 24 26 71 55 67 95 86 28 \n",
      "84 42 91 94 90 19 37 78 65 84 \n",
      "37 71 34 63 38 53 98 97 26 85 \n",
      "\n",
      "[16, 35, 46, 68, 68, 71, 82, 83, 88, 89]\n",
      "[16, 22, 23, 25, 37, 59, 62, 76, 88, 95]\n",
      "[19, 27, 27, 31, 33, 51, 53, 62, 69, 86]\n",
      "[11, 14, 24, 42, 43, 45, 49, 77, 79, 80]\n",
      "[16, 21, 32, 44, 50, 51, 80, 93, 96, 96]\n",
      "[24, 32, 35, 56, 58, 69, 71, 74, 76, 97]\n",
      "[11, 23, 23, 25, 52, 57, 60, 70, 72, 92]\n",
      "[13, 16, 24, 26, 28, 55, 67, 71, 86, 95]\n",
      "[19, 37, 42, 65, 78, 84, 84, 90, 91, 94]\n",
      "[26, 34, 37, 38, 53, 63, 71, 85, 97, 98]\n",
      "--- 1 ms ---\n"
     ]
    }
   ],
   "source": [
    "# Стандартная функция сортировки.\n",
    "matrix6 = copy.deepcopy(matrix)\n",
    "matrixOutputConsole(matrix6)\n",
    "print()\n",
    "start_time = time.time()\n",
    "for k in range(int(user_m)):\n",
    "    print(sorted(matrix6[k]))      \n",
    "print(\"--- {0} ms ---\".format(round((time.time() - start_time)*1000)))"
   ]
  },
  {
   "cell_type": "markdown",
   "metadata": {},
   "source": [
    "### Вывод\n"
   ]
  },
  {
   "cell_type": "markdown",
   "metadata": {},
   "source": [
    "### В ходе реализации сортировки элементов матрицы, используя различные алгоритмы сортировок, были получены следующие временные результаты работы сортировок(при сортировки матрицы user_n = 10, user_m = 10, user_min_limit, user_max_limit)\n",
    "\n",
    "#### Сортировка выбором: - 2ms\n",
    "- Сложность в худшем случае: O(n^2)\n",
    "- Сложность в лучшем случае: O(n^2)\n",
    "\n",
    "#### Сортировка вставками: - 5ms\n",
    "- Сложность в худшем случае: O(n^2)\n",
    "- Сложность в лучшем случае: O(n)\n",
    "\n",
    "#### Сортировка обменом: - 3ms\n",
    "- Сложность в худшем случае: O(n^2)\n",
    "- Сложность в лучшем случае: O(n)\n",
    "\n",
    "#### Сортировка Шелла: - 3ms\n",
    "- Сложность в худшем случае: O(n^3/2)\n",
    "- Сложность в лучшем случае: O(n)\n",
    "\n",
    "#### Быстрая сотрировка: - 1ms\n",
    "- Сложность в худшем случае: O(n^2)\n",
    "- Сложность в лучшем случае: O(n*log(n))\n",
    "\n",
    "#### Турнирная сотрировка: - 1ms\n",
    "- Сложность в худшем случае: O(n*log(n))\n",
    "- Сложность в лучшем случае: --\n",
    "\n",
    "#### Стандартная функция сотрировки: - 1ms\n",
    "- Сложность в худшем случае: O(n^2)\n",
    "- Сложность в лучшем случае: O(n*log(n))"
   ]
  },
  {
   "cell_type": "markdown",
   "metadata": {},
   "source": []
  },
  {
   "cell_type": "code",
   "execution_count": null,
   "metadata": {},
   "outputs": [],
   "source": []
  }
 ],
 "metadata": {
  "kernelspec": {
   "display_name": "Python 3",
   "language": "python",
   "name": "python3"
  },
  "language_info": {
   "codemirror_mode": {
    "name": "ipython",
    "version": 3
   },
   "file_extension": ".py",
   "mimetype": "text/x-python",
   "name": "python",
   "nbconvert_exporter": "python",
   "pygments_lexer": "ipython3",
   "version": "3.8.3"
  }
 },
 "nbformat": 4,
 "nbformat_minor": 5
}
